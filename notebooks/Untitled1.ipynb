{
 "cells": [
  {
   "cell_type": "code",
   "execution_count": 1,
   "id": "e8e4c7e1",
   "metadata": {},
   "outputs": [],
   "source": [
    "import os\n",
    "import numpy\n"
   ]
  },
  {
   "cell_type": "code",
   "execution_count": 5,
   "id": "e0de860a",
   "metadata": {},
   "outputs": [
    {
     "data": {
      "text/plain": [
       "['001', '002', '003', '004', '005', '006']"
      ]
     },
     "execution_count": 5,
     "metadata": {},
     "output_type": "execute_result"
    }
   ],
   "source": [
    "data_pth = '/home/muyaho/outdoor/train'\n",
    "classes = os.listdir(data_pth)\n",
    "classes.sort()\n",
    "classes\n"
   ]
  },
  {
   "cell_type": "code",
   "execution_count": 12,
   "id": "32223645",
   "metadata": {},
   "outputs": [],
   "source": [
    "import os\n",
    "from shutil import copyfile\n",
    "data_pth = '/home/muyaho/outdoor/train'\n",
    "classes = os.listdir(data_pth)\n",
    "imgnum = 20\n",
    "new_path = '/home/muyaho/outdoor/train2'\n",
    "for classpath in classes:\n",
    "    imgnames = os.listdir(os.path.join(data_pth, classpath))\n",
    "    for img in imgnames[:imgnum]:\n",
    "        imgpath = os.path.join(data_pth, classpath, img)\n",
    "        if not os.path.isdir(os.path.join(new_path, classpath)):\n",
    "            os.mkdir(os.path.join(new_path, classpath))\n",
    "        copyfile(imgpath, os.path.join(new_path, classpath, img))"
   ]
  },
  {
   "cell_type": "code",
   "execution_count": null,
   "id": "0388c4fe",
   "metadata": {},
   "outputs": [],
   "source": []
  }
 ],
 "metadata": {
  "kernelspec": {
   "display_name": "superpoint&glue",
   "language": "python",
   "name": "pnp"
  },
  "language_info": {
   "codemirror_mode": {
    "name": "ipython",
    "version": 3
   },
   "file_extension": ".py",
   "mimetype": "text/x-python",
   "name": "python",
   "nbconvert_exporter": "python",
   "pygments_lexer": "ipython3",
   "version": "3.8.15"
  }
 },
 "nbformat": 4,
 "nbformat_minor": 5
}
